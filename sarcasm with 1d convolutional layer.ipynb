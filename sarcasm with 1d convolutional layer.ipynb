{
 "cells": [
  {
   "cell_type": "code",
   "execution_count": 1,
   "metadata": {},
   "outputs": [],
   "source": [
    "import tensorflow as tf\n",
    "from tensorflow import keras\n",
    "import json\n",
    "import numpy as np\n",
    "from tensorflow.keras.preprocessing.text import Tokenizer\n",
    "from tensorflow.keras.preprocessing.sequence import pad_sequences"
   ]
  },
  {
   "cell_type": "code",
   "execution_count": 2,
   "metadata": {},
   "outputs": [],
   "source": [
    "vocab_size = 1000\n",
    "embedding_dim = 16\n",
    "max_length = 120\n",
    "trunc_type = 'post'\n",
    "padding_type='post'\n",
    "oov_tok = \"<OOV>\"\n",
    "training_size = 20000"
   ]
  },
  {
   "cell_type": "code",
   "execution_count": 3,
   "metadata": {},
   "outputs": [],
   "source": [
    "with open(\"C:/Users/Teja/Desktop/dsml/tensorflow_training/sarcasm.json\") as f:\n",
    "    datastore = json.load(f)"
   ]
  },
  {
   "cell_type": "code",
   "execution_count": 4,
   "metadata": {},
   "outputs": [],
   "source": [
    "sentences = []\n",
    "labels = []\n",
    "urls = []\n",
    "\n",
    "for item in datastore:\n",
    "    sentences.append(item['headline'])\n",
    "    labels.append(item['is_sarcastic'])\n",
    "    \n",
    "    "
   ]
  },
  {
   "cell_type": "code",
   "execution_count": 5,
   "metadata": {},
   "outputs": [],
   "source": [
    "training_sentences = sentences[0:training_size]\n",
    "testing_sentences = sentences[training_size:]\n",
    "\n",
    "training_labels = labels[0:training_size]\n",
    "testing_labels = labels[training_size:]"
   ]
  },
  {
   "cell_type": "code",
   "execution_count": 6,
   "metadata": {},
   "outputs": [],
   "source": [
    "tokenizer = Tokenizer(num_words = vocab_size, oov_token = oov_tok)\n",
    "tokenizer.fit_on_texts(training_sentences)"
   ]
  },
  {
   "cell_type": "code",
   "execution_count": 7,
   "metadata": {},
   "outputs": [],
   "source": [
    "word_index = tokenizer.word_index\n",
    "\n",
    "training_sequences = tokenizer.texts_to_sequences(training_sentences)\n",
    "training_padded = pad_sequences(training_sequences, maxlen = max_length, padding = padding_type, truncating = trunc_type)\n",
    "\n",
    "testing_sequences = tokenizer.texts_to_sequences(testing_sentences)\n",
    "testing_padded = pad_sequences(testing_sequences, maxlen = max_length, padding = padding_type, truncating = trunc_type)"
   ]
  },
  {
   "cell_type": "code",
   "execution_count": 8,
   "metadata": {},
   "outputs": [],
   "source": [
    "model = tf.keras.Sequential([\n",
    "    tf.keras.layers.Embedding(vocab_size, embedding_dim, input_length = max_length),\n",
    "    tf.keras.layers.Conv1D(128, 5, activation = 'relu'),\n",
    "    tf.keras.layers.GlobalMaxPooling1D(),\n",
    "    tf.keras.layers.Dense(128, activation = 'relu'),\n",
    "    tf.keras.layers.Dense(1, activation = 'sigmoid')\n",
    "])"
   ]
  },
  {
   "cell_type": "code",
   "execution_count": 9,
   "metadata": {},
   "outputs": [],
   "source": [
    "model.compile(\n",
    "    loss = 'binary_crossentropy',\n",
    "    optimizer = 'adam',\n",
    "    metrics = ['accuracy']\n",
    ")"
   ]
  },
  {
   "cell_type": "code",
   "execution_count": 10,
   "metadata": {},
   "outputs": [
    {
     "name": "stdout",
     "output_type": "stream",
     "text": [
      "Model: \"sequential\"\n",
      "_________________________________________________________________\n",
      "Layer (type)                 Output Shape              Param #   \n",
      "=================================================================\n",
      "embedding (Embedding)        (None, 120, 16)           16000     \n",
      "_________________________________________________________________\n",
      "conv1d (Conv1D)              (None, 116, 128)          10368     \n",
      "_________________________________________________________________\n",
      "global_max_pooling1d (Global (None, 128)               0         \n",
      "_________________________________________________________________\n",
      "dense (Dense)                (None, 128)               16512     \n",
      "_________________________________________________________________\n",
      "dense_1 (Dense)              (None, 1)                 129       \n",
      "=================================================================\n",
      "Total params: 43,009\n",
      "Trainable params: 43,009\n",
      "Non-trainable params: 0\n",
      "_________________________________________________________________\n"
     ]
    }
   ],
   "source": [
    "model.summary()"
   ]
  },
  {
   "cell_type": "code",
   "execution_count": 11,
   "metadata": {
    "scrolled": false
   },
   "outputs": [
    {
     "name": "stdout",
     "output_type": "stream",
     "text": [
      "Epoch 1/50\n",
      "625/625 [==============================] - 3s 5ms/step - loss: 0.4628 - accuracy: 0.7671 - val_loss: 0.4032 - val_accuracy: 0.8135\n",
      "Epoch 2/50\n",
      "625/625 [==============================] - 3s 5ms/step - loss: 0.3547 - accuracy: 0.8377 - val_loss: 0.3898 - val_accuracy: 0.8223\n",
      "Epoch 3/50\n",
      "625/625 [==============================] - 3s 5ms/step - loss: 0.3119 - accuracy: 0.8631 - val_loss: 0.3981 - val_accuracy: 0.8201\n",
      "Epoch 4/50\n",
      "625/625 [==============================] - 3s 5ms/step - loss: 0.2688 - accuracy: 0.8846 - val_loss: 0.4566 - val_accuracy: 0.8037\n",
      "Epoch 5/50\n",
      "625/625 [==============================] - 4s 6ms/step - loss: 0.2279 - accuracy: 0.9038 - val_loss: 0.4630 - val_accuracy: 0.8143\n",
      "Epoch 6/50\n",
      "625/625 [==============================] - 4s 6ms/step - loss: 0.1877 - accuracy: 0.9254 - val_loss: 0.5132 - val_accuracy: 0.8147\n",
      "Epoch 7/50\n",
      "625/625 [==============================] - 4s 6ms/step - loss: 0.1505 - accuracy: 0.9410 - val_loss: 0.5654 - val_accuracy: 0.8068\n",
      "Epoch 8/50\n",
      "625/625 [==============================] - 3s 6ms/step - loss: 0.1214 - accuracy: 0.9542 - val_loss: 0.6439 - val_accuracy: 0.7965\n",
      "Epoch 9/50\n",
      "625/625 [==============================] - 10s 16ms/step - loss: 0.0999 - accuracy: 0.9621 - val_loss: 0.7553 - val_accuracy: 0.7983\n",
      "Epoch 10/50\n",
      "625/625 [==============================] - 9s 14ms/step - loss: 0.0844 - accuracy: 0.9678 - val_loss: 0.8623 - val_accuracy: 0.8058\n",
      "Epoch 11/50\n",
      "625/625 [==============================] - 9s 14ms/step - loss: 0.0745 - accuracy: 0.9718 - val_loss: 0.9865 - val_accuracy: 0.7882\n",
      "Epoch 12/50\n",
      "625/625 [==============================] - 9s 14ms/step - loss: 0.0647 - accuracy: 0.9754 - val_loss: 1.0125 - val_accuracy: 0.7979\n",
      "Epoch 13/50\n",
      "625/625 [==============================] - 9s 14ms/step - loss: 0.0579 - accuracy: 0.9775 - val_loss: 1.1403 - val_accuracy: 0.7915\n",
      "Epoch 14/50\n",
      "625/625 [==============================] - 9s 14ms/step - loss: 0.0539 - accuracy: 0.9786 - val_loss: 1.1950 - val_accuracy: 0.7998\n",
      "Epoch 15/50\n",
      "625/625 [==============================] - 9s 14ms/step - loss: 0.0496 - accuracy: 0.9798 - val_loss: 1.2511 - val_accuracy: 0.7931\n",
      "Epoch 16/50\n",
      "625/625 [==============================] - 9s 14ms/step - loss: 0.0452 - accuracy: 0.9836 - val_loss: 1.2854 - val_accuracy: 0.7970\n",
      "Epoch 17/50\n",
      "625/625 [==============================] - 9s 14ms/step - loss: 0.0435 - accuracy: 0.9824 - val_loss: 1.3709 - val_accuracy: 0.7973\n",
      "Epoch 18/50\n",
      "625/625 [==============================] - 9s 14ms/step - loss: 0.0489 - accuracy: 0.9804 - val_loss: 1.3767 - val_accuracy: 0.7903\n",
      "Epoch 19/50\n",
      "625/625 [==============================] - 9s 14ms/step - loss: 0.0369 - accuracy: 0.9855 - val_loss: 1.4627 - val_accuracy: 0.7985\n",
      "Epoch 20/50\n",
      "625/625 [==============================] - 9s 14ms/step - loss: 0.0321 - accuracy: 0.9880 - val_loss: 1.5662 - val_accuracy: 0.7904\n",
      "Epoch 21/50\n",
      "625/625 [==============================] - 8s 13ms/step - loss: 0.0434 - accuracy: 0.9825 - val_loss: 1.5349 - val_accuracy: 0.7928\n",
      "Epoch 22/50\n",
      "625/625 [==============================] - 9s 14ms/step - loss: 0.0355 - accuracy: 0.9862 - val_loss: 1.5783 - val_accuracy: 0.7974\n",
      "Epoch 23/50\n",
      "625/625 [==============================] - 9s 14ms/step - loss: 0.0348 - accuracy: 0.9862 - val_loss: 1.5985 - val_accuracy: 0.7943\n",
      "Epoch 24/50\n",
      "625/625 [==============================] - 9s 14ms/step - loss: 0.0313 - accuracy: 0.9870 - val_loss: 1.7010 - val_accuracy: 0.7915\n",
      "Epoch 25/50\n",
      "625/625 [==============================] - 9s 14ms/step - loss: 0.0296 - accuracy: 0.9877 - val_loss: 1.6899 - val_accuracy: 0.7943\n",
      "Epoch 26/50\n",
      "625/625 [==============================] - 9s 14ms/step - loss: 0.0267 - accuracy: 0.9891 - val_loss: 1.9673 - val_accuracy: 0.7906\n",
      "Epoch 27/50\n",
      "625/625 [==============================] - 9s 14ms/step - loss: 0.0351 - accuracy: 0.9859 - val_loss: 1.7571 - val_accuracy: 0.7918\n",
      "Epoch 28/50\n",
      "625/625 [==============================] - 9s 14ms/step - loss: 0.0330 - accuracy: 0.9862 - val_loss: 1.8662 - val_accuracy: 0.7866\n",
      "Epoch 29/50\n",
      "625/625 [==============================] - 10s 15ms/step - loss: 0.0307 - accuracy: 0.9865 - val_loss: 1.8854 - val_accuracy: 0.7919\n",
      "Epoch 30/50\n",
      "625/625 [==============================] - 9s 14ms/step - loss: 0.0299 - accuracy: 0.9876 - val_loss: 1.8935 - val_accuracy: 0.7915\n",
      "Epoch 31/50\n",
      "625/625 [==============================] - 9s 14ms/step - loss: 0.0270 - accuracy: 0.9883 - val_loss: 1.8829 - val_accuracy: 0.7933\n",
      "Epoch 32/50\n",
      "625/625 [==============================] - 9s 15ms/step - loss: 0.0272 - accuracy: 0.9894 - val_loss: 1.9254 - val_accuracy: 0.7946\n",
      "Epoch 33/50\n",
      "625/625 [==============================] - 9s 14ms/step - loss: 0.0248 - accuracy: 0.9896 - val_loss: 1.9743 - val_accuracy: 0.7958\n",
      "Epoch 34/50\n",
      "625/625 [==============================] - 9s 14ms/step - loss: 0.0246 - accuracy: 0.9889 - val_loss: 1.9900 - val_accuracy: 0.7973\n",
      "Epoch 35/50\n",
      "625/625 [==============================] - 9s 15ms/step - loss: 0.0280 - accuracy: 0.9882 - val_loss: 2.0309 - val_accuracy: 0.7931\n",
      "Epoch 36/50\n",
      "625/625 [==============================] - 9s 14ms/step - loss: 0.0327 - accuracy: 0.9866 - val_loss: 2.1200 - val_accuracy: 0.7883\n",
      "Epoch 37/50\n",
      "625/625 [==============================] - 8s 14ms/step - loss: 0.0233 - accuracy: 0.9895 - val_loss: 2.0461 - val_accuracy: 0.7904\n",
      "Epoch 38/50\n",
      "625/625 [==============================] - 9s 14ms/step - loss: 0.0227 - accuracy: 0.9903 - val_loss: 2.1230 - val_accuracy: 0.7904\n",
      "Epoch 39/50\n",
      "625/625 [==============================] - 9s 14ms/step - loss: 0.0227 - accuracy: 0.9898 - val_loss: 2.1966 - val_accuracy: 0.7931\n",
      "Epoch 40/50\n",
      "625/625 [==============================] - 9s 14ms/step - loss: 0.0297 - accuracy: 0.9870 - val_loss: 2.0719 - val_accuracy: 0.7895\n",
      "Epoch 41/50\n",
      "625/625 [==============================] - 9s 14ms/step - loss: 0.0246 - accuracy: 0.9897 - val_loss: 2.1827 - val_accuracy: 0.7852\n",
      "Epoch 42/50\n",
      "625/625 [==============================] - 9s 15ms/step - loss: 0.0230 - accuracy: 0.9900 - val_loss: 2.1746 - val_accuracy: 0.7959\n",
      "Epoch 43/50\n",
      "625/625 [==============================] - 9s 14ms/step - loss: 0.0243 - accuracy: 0.9890 - val_loss: 2.2262 - val_accuracy: 0.7915\n",
      "Epoch 44/50\n",
      "625/625 [==============================] - 9s 14ms/step - loss: 0.0215 - accuracy: 0.9906 - val_loss: 2.3453 - val_accuracy: 0.7930\n",
      "Epoch 45/50\n",
      "625/625 [==============================] - 9s 15ms/step - loss: 0.0192 - accuracy: 0.9918 - val_loss: 2.4118 - val_accuracy: 0.7939\n",
      "Epoch 46/50\n",
      "625/625 [==============================] - 9s 14ms/step - loss: 0.0221 - accuracy: 0.9906 - val_loss: 2.4438 - val_accuracy: 0.7925\n",
      "Epoch 47/50\n",
      "625/625 [==============================] - 8s 13ms/step - loss: 0.0240 - accuracy: 0.9900 - val_loss: 2.2370 - val_accuracy: 0.7894\n",
      "Epoch 48/50\n",
      "625/625 [==============================] - 9s 14ms/step - loss: 0.0207 - accuracy: 0.9905 - val_loss: 2.3557 - val_accuracy: 0.8049\n",
      "Epoch 49/50\n",
      "625/625 [==============================] - 9s 14ms/step - loss: 0.0197 - accuracy: 0.9907 - val_loss: 2.4635 - val_accuracy: 0.8000\n",
      "Epoch 50/50\n",
      "625/625 [==============================] - 9s 15ms/step - loss: 0.0215 - accuracy: 0.9908 - val_loss: 2.3485 - val_accuracy: 0.7898\n"
     ]
    }
   ],
   "source": [
    "num_epochs = 50\n",
    "\n",
    "training_padded = np.array(training_padded)\n",
    "training_labels = np.array(training_labels)\n",
    "testing_padded = np.array(testing_padded)\n",
    "testing_labels = np.array(testing_labels)\n",
    "\n",
    "history = model.fit(training_padded,\n",
    "                    training_labels,\n",
    "                    epochs=num_epochs,\n",
    "                    validation_data=(testing_padded, testing_labels),\n",
    "                    verbose=1)"
   ]
  },
  {
   "cell_type": "code",
   "execution_count": 12,
   "metadata": {},
   "outputs": [
    {
     "data": {
      "image/png": "[encoded data removed]",
      "text/plain": [
       "<Figure size 432x288 with 1 Axes>"
      ]
     },
     "metadata": {
      "needs_background": "light"
     },
     "output_type": "display_data"
    },
    {
     "data": {
      "image/png": "[encoded data removed]",
      "text/plain": [
       "<Figure size 432x288 with 1 Axes>"
      ]
     },
     "metadata": {
      "needs_background": "light"
     },
     "output_type": "display_data"
    }
   ],
   "source": [
    "import matplotlib.pyplot as plt\n",
    "\n",
    "\n",
    "def plot_graphs(history, string):\n",
    "  plt.plot(history.history[string])\n",
    "  plt.plot(history.history['val_'+string])\n",
    "  plt.xlabel(\"Epochs\")\n",
    "  plt.ylabel(string)\n",
    "  plt.legend([string, 'val_'+string])\n",
    "  plt.show()\n",
    "\n",
    "plot_graphs(history, 'accuracy')\n",
    "plot_graphs(history, 'loss')"
   ]
  },
  {
   "cell_type": "code",
   "execution_count": null,
   "metadata": {},
   "outputs": [],
   "source": []
  }
 ],
 "metadata": {
  "kernelspec": {
   "display_name": "Python 3",
   "language": "python",
   "name": "python3"
  },
  "language_info": {
   "codemirror_mode": {
    "name": "ipython",
    "version": 3
   },
   "file_extension": ".py",
   "mimetype": "text/x-python",
   "name": "python",
   "nbconvert_exporter": "python",
   "pygments_lexer": "ipython3",
   "version": "3.8.3"
  }
 },
 "nbformat": 4,
 "nbformat_minor": 4
}
