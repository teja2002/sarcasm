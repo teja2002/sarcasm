{
 "cells": [
  {
   "cell_type": "code",
   "execution_count": 1,
   "metadata": {},
   "outputs": [],
   "source": [
    "import numpy as np\n",
    "\n",
    "import json\n",
    "import tensorflow as tf\n",
    "\n",
    "from tensorflow.keras.preprocessing.text import Tokenizer\n",
    "from tensorflow.keras.preprocessing.sequence import pad_sequences\n"
   ]
  },
  {
   "cell_type": "code",
   "execution_count": 2,
   "metadata": {},
   "outputs": [],
   "source": [
    "vocab_size = 1000\n",
    "embedding_dim = 16\n",
    "max_length = 120\n",
    "trunc_type='post'\n",
    "padding_type='post'\n",
    "oov_tok = \"<OOV>\"\n",
    "training_size = 20000"
   ]
  },
  {
   "cell_type": "code",
   "execution_count": 3,
   "metadata": {},
   "outputs": [],
   "source": [
    "with open(\"C:/Users/Teja/Desktop/dsml/tensorflow_training/sarcasm.json\") as f:\n",
    "    datastore = json.load(f)"
   ]
  },
  {
   "cell_type": "code",
   "execution_count": 4,
   "metadata": {},
   "outputs": [],
   "source": [
    "sentences = []\n",
    "labels = []\n",
    "urls = []\n",
    "for item in datastore:\n",
    "    sentences.append(item['headline'])\n",
    "    labels.append(item['is_sarcastic'])"
   ]
  },
  {
   "cell_type": "code",
   "execution_count": 5,
   "metadata": {},
   "outputs": [],
   "source": [
    "training_sentences = sentences[0:training_size]\n",
    "testing_sentences = sentences[training_size:]\n",
    "training_labels = labels[0:training_size]\n",
    "testing_labels = labels[training_size:]"
   ]
  },
  {
   "cell_type": "code",
   "execution_count": 6,
   "metadata": {},
   "outputs": [],
   "source": [
    "tokenizer = Tokenizer(num_words=vocab_size, oov_token=oov_tok)\n",
    "tokenizer.fit_on_texts(training_sentences)"
   ]
  },
  {
   "cell_type": "code",
   "execution_count": 7,
   "metadata": {},
   "outputs": [],
   "source": [
    "word_index = tokenizer.word_index\n",
    "\n",
    "training_sequences = tokenizer.texts_to_sequences(training_sentences)\n",
    "training_padded = pad_sequences(training_sequences, maxlen=max_length, padding=padding_type, truncating=trunc_type)\n",
    "\n",
    "testing_sequences = tokenizer.texts_to_sequences(testing_sentences)\n",
    "testing_padded = pad_sequences(testing_sequences, maxlen=max_length, padding=padding_type, truncating=trunc_type)"
   ]
  },
  {
   "cell_type": "code",
   "execution_count": 8,
   "metadata": {},
   "outputs": [],
   "source": [
    "model = tf.keras.Sequential([\n",
    "    tf.keras.layers.Embedding(vocab_size, embedding_dim, input_length=max_length),\n",
    "    tf.keras.layers.Bidirectional(tf.keras.layers.LSTM(32)),\n",
    "    tf.keras.layers.Dense(24, activation='relu'),\n",
    "    tf.keras.layers.Dense(1, activation='sigmoid')\n",
    "])"
   ]
  },
  {
   "cell_type": "code",
   "execution_count": 9,
   "metadata": {},
   "outputs": [
    {
     "name": "stdout",
     "output_type": "stream",
     "text": [
      "Model: \"sequential\"\n",
      "_________________________________________________________________\n",
      "Layer (type)                 Output Shape              Param #   \n",
      "=================================================================\n",
      "embedding (Embedding)        (None, 120, 16)           16000     \n",
      "_________________________________________________________________\n",
      "bidirectional (Bidirectional (None, 64)                12544     \n",
      "_________________________________________________________________\n",
      "dense (Dense)                (None, 24)                1560      \n",
      "_________________________________________________________________\n",
      "dense_1 (Dense)              (None, 1)                 25        \n",
      "=================================================================\n",
      "Total params: 30,129\n",
      "Trainable params: 30,129\n",
      "Non-trainable params: 0\n",
      "_________________________________________________________________\n"
     ]
    }
   ],
   "source": [
    "model.compile(loss='binary_crossentropy',optimizer='adam',metrics=['accuracy'])\n",
    "model.summary()\n"
   ]
  },
  {
   "cell_type": "code",
   "execution_count": 10,
   "metadata": {
    "scrolled": false
   },
   "outputs": [
    {
     "name": "stdout",
     "output_type": "stream",
     "text": [
      "Epoch 1/50\n",
      "625/625 [==============================] - 48s 76ms/step - loss: 0.4495 - accuracy: 0.7763 - val_loss: 0.4038 - val_accuracy: 0.8114\n",
      "Epoch 2/50\n",
      "625/625 [==============================] - 48s 77ms/step - loss: 0.3589 - accuracy: 0.8362 - val_loss: 0.3836 - val_accuracy: 0.8214\n",
      "Epoch 3/50\n",
      "625/625 [==============================] - 47s 76ms/step - loss: 0.3423 - accuracy: 0.8447 - val_loss: 0.3729 - val_accuracy: 0.8328\n",
      "Epoch 4/50\n",
      "625/625 [==============================] - 49s 78ms/step - loss: 0.3228 - accuracy: 0.8546 - val_loss: 0.3670 - val_accuracy: 0.8353\n",
      "Epoch 5/50\n",
      "625/625 [==============================] - 47s 75ms/step - loss: 0.3058 - accuracy: 0.8637 - val_loss: 0.3724 - val_accuracy: 0.8329\n",
      "Epoch 6/50\n",
      "625/625 [==============================] - 47s 75ms/step - loss: 0.2928 - accuracy: 0.8682 - val_loss: 0.3862 - val_accuracy: 0.8346\n",
      "Epoch 7/50\n",
      "625/625 [==============================] - 46s 74ms/step - loss: 0.2822 - accuracy: 0.8762 - val_loss: 0.3866 - val_accuracy: 0.8308\n",
      "Epoch 8/50\n",
      "625/625 [==============================] - 48s 77ms/step - loss: 0.2752 - accuracy: 0.8799 - val_loss: 0.3911 - val_accuracy: 0.8326\n",
      "Epoch 9/50\n",
      "625/625 [==============================] - 47s 76ms/step - loss: 0.2696 - accuracy: 0.8827 - val_loss: 0.3880 - val_accuracy: 0.8307\n",
      "Epoch 10/50\n",
      "625/625 [==============================] - 48s 76ms/step - loss: 0.2625 - accuracy: 0.8870 - val_loss: 0.4047 - val_accuracy: 0.8295\n",
      "Epoch 11/50\n",
      "625/625 [==============================] - 48s 77ms/step - loss: 0.2575 - accuracy: 0.8860 - val_loss: 0.4070 - val_accuracy: 0.8255\n",
      "Epoch 12/50\n",
      "625/625 [==============================] - 47s 75ms/step - loss: 0.2508 - accuracy: 0.8928 - val_loss: 0.4190 - val_accuracy: 0.8258\n",
      "Epoch 13/50\n",
      "625/625 [==============================] - 48s 76ms/step - loss: 0.2435 - accuracy: 0.8938 - val_loss: 0.4470 - val_accuracy: 0.8252\n",
      "Epoch 14/50\n",
      "625/625 [==============================] - 47s 75ms/step - loss: 0.2372 - accuracy: 0.8975 - val_loss: 0.4309 - val_accuracy: 0.8247\n",
      "Epoch 15/50\n",
      "625/625 [==============================] - 48s 76ms/step - loss: 0.2324 - accuracy: 0.8988 - val_loss: 0.4785 - val_accuracy: 0.8217\n",
      "Epoch 16/50\n",
      "625/625 [==============================] - 48s 76ms/step - loss: 0.2234 - accuracy: 0.9029 - val_loss: 0.4554 - val_accuracy: 0.8219\n",
      "Epoch 17/50\n",
      "625/625 [==============================] - 47s 75ms/step - loss: 0.2166 - accuracy: 0.9087 - val_loss: 0.4668 - val_accuracy: 0.8201\n",
      "Epoch 18/50\n",
      "625/625 [==============================] - 47s 75ms/step - loss: 0.2095 - accuracy: 0.9098 - val_loss: 0.5029 - val_accuracy: 0.8182\n",
      "Epoch 19/50\n",
      "625/625 [==============================] - 45s 72ms/step - loss: 0.1996 - accuracy: 0.9153 - val_loss: 0.5297 - val_accuracy: 0.8201\n",
      "Epoch 20/50\n",
      "625/625 [==============================] - 47s 76ms/step - loss: 0.1934 - accuracy: 0.9186 - val_loss: 0.5512 - val_accuracy: 0.8162\n",
      "Epoch 21/50\n",
      "625/625 [==============================] - 48s 76ms/step - loss: 0.1866 - accuracy: 0.9212 - val_loss: 0.5391 - val_accuracy: 0.8150\n",
      "Epoch 22/50\n",
      "625/625 [==============================] - 46s 73ms/step - loss: 0.1791 - accuracy: 0.9242 - val_loss: 0.5764 - val_accuracy: 0.8176\n",
      "Epoch 23/50\n",
      "625/625 [==============================] - 46s 74ms/step - loss: 0.1739 - accuracy: 0.9264 - val_loss: 0.6404 - val_accuracy: 0.8126\n",
      "Epoch 24/50\n",
      "625/625 [==============================] - 46s 73ms/step - loss: 0.1633 - accuracy: 0.9317 - val_loss: 0.6620 - val_accuracy: 0.8146\n",
      "Epoch 25/50\n",
      "625/625 [==============================] - 49s 79ms/step - loss: 0.1592 - accuracy: 0.9334 - val_loss: 0.7144 - val_accuracy: 0.8064\n",
      "Epoch 26/50\n",
      "625/625 [==============================] - 47s 75ms/step - loss: 0.1531 - accuracy: 0.9372 - val_loss: 0.6629 - val_accuracy: 0.8064\n",
      "Epoch 27/50\n",
      "625/625 [==============================] - 48s 76ms/step - loss: 0.1465 - accuracy: 0.9402 - val_loss: 0.7267 - val_accuracy: 0.8131\n",
      "Epoch 28/50\n",
      "625/625 [==============================] - 48s 77ms/step - loss: 0.1391 - accuracy: 0.9438 - val_loss: 0.7870 - val_accuracy: 0.8094\n",
      "Epoch 29/50\n",
      "625/625 [==============================] - 48s 77ms/step - loss: 0.1365 - accuracy: 0.9439 - val_loss: 0.8712 - val_accuracy: 0.8079\n",
      "Epoch 30/50\n",
      "625/625 [==============================] - 48s 77ms/step - loss: 0.1367 - accuracy: 0.9435 - val_loss: 0.8164 - val_accuracy: 0.8086\n",
      "Epoch 31/50\n",
      "625/625 [==============================] - 47s 75ms/step - loss: 0.1240 - accuracy: 0.9492 - val_loss: 0.9791 - val_accuracy: 0.8050\n",
      "Epoch 32/50\n",
      "625/625 [==============================] - 48s 77ms/step - loss: 0.1238 - accuracy: 0.9495 - val_loss: 1.0117 - val_accuracy: 0.8061\n",
      "Epoch 33/50\n",
      "625/625 [==============================] - 48s 76ms/step - loss: 0.1103 - accuracy: 0.9562 - val_loss: 1.0154 - val_accuracy: 0.8061\n",
      "Epoch 34/50\n",
      "625/625 [==============================] - 47s 75ms/step - loss: 0.1133 - accuracy: 0.9537 - val_loss: 1.0348 - val_accuracy: 0.8046\n",
      "Epoch 35/50\n",
      "625/625 [==============================] - 48s 77ms/step - loss: 0.1086 - accuracy: 0.9553 - val_loss: 1.0713 - val_accuracy: 0.8052\n",
      "Epoch 36/50\n",
      "625/625 [==============================] - 47s 75ms/step - loss: 0.1016 - accuracy: 0.9585 - val_loss: 1.1324 - val_accuracy: 0.8056\n",
      "Epoch 37/50\n",
      "625/625 [==============================] - 46s 74ms/step - loss: 0.0985 - accuracy: 0.9597 - val_loss: 1.1899 - val_accuracy: 0.8041\n",
      "Epoch 38/50\n",
      "625/625 [==============================] - 46s 74ms/step - loss: 0.0973 - accuracy: 0.9592 - val_loss: 1.1054 - val_accuracy: 0.7979\n",
      "Epoch 39/50\n",
      "625/625 [==============================] - 49s 78ms/step - loss: 0.0908 - accuracy: 0.9625 - val_loss: 1.3253 - val_accuracy: 0.8010\n",
      "Epoch 40/50\n",
      "625/625 [==============================] - 59s 95ms/step - loss: 0.0856 - accuracy: 0.9640 - val_loss: 1.3302 - val_accuracy: 0.7991\n",
      "Epoch 41/50\n",
      "625/625 [==============================] - 58s 93ms/step - loss: 0.0859 - accuracy: 0.9639 - val_loss: 1.2862 - val_accuracy: 0.8034\n",
      "Epoch 42/50\n",
      "625/625 [==============================] - 50s 80ms/step - loss: 0.0835 - accuracy: 0.9646 - val_loss: 1.3745 - val_accuracy: 0.7991\n",
      "Epoch 43/50\n",
      "625/625 [==============================] - 48s 76ms/step - loss: 0.0774 - accuracy: 0.9672 - val_loss: 1.4758 - val_accuracy: 0.8037\n",
      "Epoch 44/50\n",
      "625/625 [==============================] - 47s 76ms/step - loss: 0.0743 - accuracy: 0.9686 - val_loss: 1.4349 - val_accuracy: 0.8035\n",
      "Epoch 45/50\n",
      "625/625 [==============================] - 46s 73ms/step - loss: 0.0733 - accuracy: 0.9696 - val_loss: 1.5027 - val_accuracy: 0.8021\n",
      "Epoch 46/50\n",
      "625/625 [==============================] - 46s 74ms/step - loss: 0.0703 - accuracy: 0.9700 - val_loss: 1.5547 - val_accuracy: 0.8016\n",
      "Epoch 47/50\n",
      "625/625 [==============================] - 47s 75ms/step - loss: 0.0659 - accuracy: 0.9721 - val_loss: 1.6551 - val_accuracy: 0.8016\n",
      "Epoch 48/50\n",
      "625/625 [==============================] - 47s 75ms/step - loss: 0.0661 - accuracy: 0.9731 - val_loss: 1.7739 - val_accuracy: 0.7948\n",
      "Epoch 49/50\n",
      "625/625 [==============================] - 46s 73ms/step - loss: 0.0654 - accuracy: 0.9724 - val_loss: 1.7892 - val_accuracy: 0.8019\n",
      "Epoch 50/50\n",
      "625/625 [==============================] - 32s 51ms/step - loss: 0.0603 - accuracy: 0.9738 - val_loss: 1.8379 - val_accuracy: 0.7936\n"
     ]
    }
   ],
   "source": [
    "num_epochs = 50\n",
    "training_padded = np.array(training_padded)\n",
    "training_labels = np.array(training_labels)\n",
    "testing_padded = np.array(testing_padded)\n",
    "testing_labels = np.array(testing_labels)\n",
    "history = model.fit(training_padded,\n",
    "                    training_labels,\n",
    "                    epochs=num_epochs,\n",
    "                    validation_data=(testing_padded, testing_labels),\n",
    "                    verbose=1)"
   ]
  },
  {
   "cell_type": "code",
   "execution_count": 11,
   "metadata": {},
   "outputs": [
    {
     "data": {
      "image/png": "[encoded data removed]",
      "text/plain": [
       "<Figure size 432x288 with 1 Axes>"
      ]
     },
     "metadata": {
      "needs_background": "light"
     },
     "output_type": "display_data"
    },
    {
     "data": {
      "image/png": "[encoded data removed]",
      "text/plain": [
       "<Figure size 432x288 with 1 Axes>"
      ]
     },
     "metadata": {
      "needs_background": "light"
     },
     "output_type": "display_data"
    }
   ],
   "source": [
    "import matplotlib.pyplot as plt\n",
    "\n",
    "\n",
    "def plot_graphs(history, string):\n",
    "  plt.plot(history.history[string])\n",
    "  plt.plot(history.history['val_'+string])\n",
    "  plt.xlabel(\"Epochs\")\n",
    "  plt.ylabel(string)\n",
    "  plt.legend([string, 'val_'+string])\n",
    "  plt.show()\n",
    "\n",
    "plot_graphs(history, 'accuracy')\n",
    "plot_graphs(history, 'loss')"
   ]
  }
 ],
 "metadata": {
  "kernelspec": {
   "display_name": "Python 3",
   "language": "python",
   "name": "python3"
  },
  "language_info": {
   "codemirror_mode": {
    "name": "ipython",
    "version": 3
   },
   "file_extension": ".py",
   "mimetype": "text/x-python",
   "name": "python",
   "nbconvert_exporter": "python",
   "pygments_lexer": "ipython3",
   "version": "3.8.3"
  }
 },
 "nbformat": 4,
 "nbformat_minor": 4
}
